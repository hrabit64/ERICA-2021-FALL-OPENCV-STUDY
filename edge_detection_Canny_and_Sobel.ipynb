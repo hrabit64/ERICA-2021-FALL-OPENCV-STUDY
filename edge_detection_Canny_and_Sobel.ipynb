{
 "cells": [
  {
   "cell_type": "markdown",
   "metadata": {
    "pycharm": {
     "name": "#%% md\n"
    }
   },
   "source": [
    "## 소벨 마스크 에지 검출\n",
    "![img](https://mblogthumb-phinf.pstatic.net/MjAxODA3MTJfMjU3/MDAxNTMxMzY3NzQ4MTM1.7bREidNVqq4Ms0LhXPKtw3CP0HH4g1uEIijaVvT3h_Mg.HY0f17o0sB2UU7fzxRKYa_bcPbQJ6ifJAALW-Rvw9SAg.PNG.mym0404/filters.png?type=w2)\n",
    "\n",
    "위와 같은 형태의 필터를 이용해 이미지에 컨볼루션 연산(해당 화소의 주변 화소에 필터의 가중치를 각각 곱한 합을 반영) 을 해 에지를 검출한다.\n",
    "\n",
    "**장점**\n",
    "- 돌출된 값을 잘 평균화 한다.\n",
    "- 모든 방향의 엣지를 검출 할 수 있다.\n",
    "- 노이즈에 강화다\n",
    "\n",
    "**단점**\n",
    "- 대각선 방향에 놓인 엣지에 민감하다."
   ]
  },
  {
   "cell_type": "code",
   "execution_count": 11,
   "outputs": [],
   "source": [
    "import cv2 # openCV\n",
    "import matplotlib.pyplot as plt"
   ],
   "metadata": {
    "collapsed": false,
    "pycharm": {
     "name": "#%%\n"
    }
   }
  },
  {
   "cell_type": "code",
   "execution_count": 12,
   "outputs": [],
   "source": [
    "src = cv2.imread('img/edge_test.png', cv2.IMREAD_GRAYSCALE) # 이미지를 흑백으로 불러오기"
   ],
   "metadata": {
    "collapsed": false,
    "pycharm": {
     "name": "#%%\n"
    }
   }
  },
  {
   "cell_type": "code",
   "execution_count": 13,
   "outputs": [],
   "source": [
    "dist = cv2.Sobel(src, cv2.CV_64F, 1, 0, ksize=3) #  소벨 에지 검출\n",
    "dist = cv2.convertScaleAbs(dist)"
   ],
   "metadata": {
    "collapsed": false,
    "pycharm": {
     "name": "#%%\n"
    }
   }
  },
  {
   "cell_type": "code",
   "execution_count": 14,
   "outputs": [
    {
     "data": {
      "text/plain": "<matplotlib.image.AxesImage at 0x17bee28e760>"
     },
     "execution_count": 14,
     "metadata": {},
     "output_type": "execute_result"
    },
    {
     "data": {
      "text/plain": "<Figure size 432x288 with 1 Axes>",
      "image/png": "[encoded data removed]"
     },
     "metadata": {
      "needs_background": "light"
     },
     "output_type": "display_data"
    }
   ],
   "source": [
    "# 검출된 에지를 화면에 표시\n",
    "plt.imshow(dist, cmap=plt.cm.gray)"
   ],
   "metadata": {
    "collapsed": false,
    "pycharm": {
     "name": "#%%\n"
    }
   }
  },
  {
   "cell_type": "markdown",
   "source": [
    "## 캐니 에지 검출\n",
    "\n",
    "**다른 에지 검출에 미해 뛰어난 점**\n",
    "- 정확한 검출\n",
    "- 실제 에지의 중심을 잘 찾음\n",
    "- 단일 에지(하나의 에지는 하나의 점으로 표형되야 함)\n",
    "\n",
    "**단점**\n",
    "- 처리 시간이 느리다.\n",
    "\n",
    "캐니 에지 검출 수행 과정\n",
    "1. 가우시안 필터링\n",
    "2. 그래디언트 계산\n",
    "3. 비최대 억제\n",
    "4. 이중 임계를 이용한 히스테리시스 에지 트래킹"
   ],
   "metadata": {
    "collapsed": false
   }
  },
  {
   "cell_type": "code",
   "execution_count": 15,
   "outputs": [],
   "source": [
    "import cv2 # openCV\n",
    "import matplotlib.pyplot as plt"
   ],
   "metadata": {
    "collapsed": false,
    "pycharm": {
     "name": "#%%\n"
    }
   }
  },
  {
   "cell_type": "code",
   "execution_count": 16,
   "outputs": [],
   "source": [
    "src = cv2.imread('img/edge_test.png', cv2.IMREAD_GRAYSCALE) # 이미지를 흑백으로 불러오기"
   ],
   "metadata": {
    "collapsed": false,
    "pycharm": {
     "name": "#%%\n"
    }
   }
  },
  {
   "cell_type": "code",
   "execution_count": 17,
   "outputs": [],
   "source": [
    "dist = cv2.Canny(src, 50, 150) #  캐니 에지 검출"
   ],
   "metadata": {
    "collapsed": false,
    "pycharm": {
     "name": "#%%\n"
    }
   }
  },
  {
   "cell_type": "code",
   "execution_count": 18,
   "outputs": [
    {
     "data": {
      "text/plain": "<matplotlib.image.AxesImage at 0x17bee323f10>"
     },
     "execution_count": 18,
     "metadata": {},
     "output_type": "execute_result"
    },
    {
     "data": {
      "text/plain": "<Figure size 432x288 with 1 Axes>",
      "image/png": "[encoded data removed]"
     },
     "metadata": {
      "needs_background": "light"
     },
     "output_type": "display_data"
    }
   ],
   "source": [
    "# 검출된 에지를 화면에 표시\n",
    "plt.imshow(dist, cmap=plt.cm.gray)\n"
   ],
   "metadata": {
    "collapsed": false,
    "pycharm": {
     "name": "#%%\n"
    }
   }
  }
 ],
 "metadata": {
  "interpreter": {
   "hash": "4d2d454593080ce1025b936e963dddf85adde935ce85bab216ace04280f49cf3"
  },
  "kernelspec": {
   "name": "pycharm-39cd402",
   "language": "python",
   "display_name": "PyCharm (deep_learning)"
  },
  "language_info": {
   "codemirror_mode": {
    "name": "ipython",
    "version": 3
   },
   "file_extension": ".py",
   "mimetype": "text/x-python",
   "name": "python",
   "nbconvert_exporter": "python",
   "pygments_lexer": "ipython3",
   "version": "3.8.8"
  },
  "orig_nbformat": 4
 },
 "nbformat": 4,
 "nbformat_minor": 2
}