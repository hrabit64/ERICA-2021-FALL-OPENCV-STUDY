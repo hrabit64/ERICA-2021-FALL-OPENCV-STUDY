{
 "cells": [
  {
   "cell_type": "markdown",
   "id": "9e876d7f",
   "metadata": {},
   "source": [
    "<h1>외곽선 검출</h1>\n",
    "\n",
    "    객체의 외각선은 객체 영역 픽셀 중에서 배경 영역과 인접한 일련의 픽셀을 의미한다.\n",
    "\n",
    "    OpenCV에서는 이 외각선을 그리는 점들을 모아 contours 변수로 정리하여 사용한다.\n",
    "\n",
    " ![img](./img/contours/sample.png)\n",
    "\n",
    "    이 사진을 예시로 들면 저 원을 구성하는 점들의 좌표를 contours 변수에 넣을 수 있다.\n",
    "    \n",
    "    이런 외각선을 검출해주는 기능을 OpenCV에서는 findContours()를 통해 사용할 수 있다.\n",
    "    사용가능한 인자들은 아래와 같다.\n",
    "   \n",
    " ![img](./img/contours/contours_opencv.png)\n",
    "    \n",
    "    findContours() 메소드는 반드시 이진화가 선행되어야 한다.\n",
    "    0이 아닌 값이 있다면 그것을 객체로 인식해 외각선을 검출한다.\n",
    "    \n",
    "    hierarchy 인자는 계층 정보에 대한 값을 반환하는 것인데\n",
    "    x번째 외각선이 있다고 가정하면 다음과 같은 값을 가진다.\n",
    "|||\n",
    "|:---:|:---:|\n",
    "|hierarchy[x][0]|다음 외곽선 번호|\n",
    "|hierarchy[x][1]|이전 외곽선 번호|\n",
    "|hierarchy[x][2]|자식 외곽선 번호|\n",
    "|hierarchy[x][3]|부모 외곽선|\n",
    "    \n",
    "    만약 해당 외곽선이 존재하지 않으면 1을 반환한다.\n",
    "    \n",
    "    \n",
    "    mode인자는 외곽선을 검출하는 방법을 선택할 수 있다.\n",
    "    mode에서 사용가능한 RetrievalModes 상수 리스트는 다음과 같다.\n",
    "    \n",
    "|상수명|설명|\n",
    "|:---:|:---:|\n",
    "|RETR_EXTERNAL|객체 바깥쪽 외각선만 검색, 계층 구조 X|\n",
    "|RETR_LIST|객체 바깥쪽과 안쪽 모두 검색, 계층 구조 X|\n",
    "|RETR_CCOMP|모든 외각선 검색, 2단계 계층 구조|\n",
    "|RETR_TREE|모든 외각선 검색, 전체 계층 구조|\n",
    "\n",
    "    method 인자에는 검출된 외곽선 점들의 좌표를 근사화 하는 방법을 지정할 수 있다.\n",
    "    method 인자에서 사용 가능한 Contour Approximation Modes 상수는 아래와 같다.\n",
    "    \n",
    "|상수명|설명|\n",
    "|:---:|:---:|\n",
    "|CHAIN_APPROX_NONE|모든 외곽선 점들의 좌표를 지정|\n",
    "|CHAIN_APPROX_SIMPLE|외곽선 중에서 수평선 수직선 대각선 성분은 끝점만 저장|\n",
    "|CHAIN_APPROX_TC89_L1|Teh & Chin L1 근사화|\n",
    "|CHAIN_APPROX_TC89_KCOS|Teh & Chin k cos 근사화|    \n",
    "\n",
    "\n",
    "    findContours()로 외곽선을 찾았다면 drawContours()를 통해 외곽선을 그릴 수 있다.\n",
    "    사용가능한 인자들은 다음과 같다.\n",
    " ![img](./img/contours/draw.png)"
   ]
  },
  {
   "cell_type": "code",
   "execution_count": 7,
   "id": "7c80dd1c",
   "metadata": {},
   "outputs": [],
   "source": [
    "import cv2\n",
    "import matplotlib.pyplot as plt\n",
    "import numpy as np\n",
    "\n",
    "def two_img_show(fir_img,fir_name,sec_img,sec_name):\n",
    "    fig = plt.figure()\n",
    "    fig.set_size_inches(20, 20)\n",
    "    rows = 1\n",
    "    cols = 2\n",
    "    ax1 = fig.add_subplot(rows, cols, 1)\n",
    "    ax1.imshow(cv2.cvtColor(fir_img, cv2.COLOR_BGR2RGB))\n",
    "    ax1.set_title(fir_name)\n",
    "    ax1.axis(\"off\")\n",
    "\n",
    "    ax2 = fig.add_subplot(rows, cols, 2)\n",
    "    ax2.imshow(cv2.cvtColor(sec_img, cv2.COLOR_BGR2RGB))\n",
    "    ax2.set_title(sec_name)\n",
    "    ax2.axis(\"off\")\n",
    "\n",
    "    plt.show()"
   ]
  },
  {
   "cell_type": "code",
   "execution_count": 4,
   "id": "9298ca35",
   "metadata": {},
   "outputs": [
    {
     "data": {
      "text/plain": [
       "<matplotlib.image.AxesImage at 0x1ac07b55a30>"
      ]
     },
     "execution_count": 4,
     "metadata": {},
     "output_type": "execute_result"
    },
    {
     "data": {
      "image/png": "[encoded data removed]",
      "text/plain": [
       "<Figure size 432x288 with 1 Axes>"
      ]
     },
     "metadata": {
      "needs_background": "light"
     },
     "output_type": "display_data"
    }
   ],
   "source": [
    "#사용할 이미지\n",
    "img = cv2.imread(\"./img/contours/cont.png\",cv2.IMREAD_GRAYSCALE)\n",
    "origin_img = cv2.imread(\"./img/contours/cont.png\")\n",
    "border , binary = cv2.threshold(img,150,255,cv2.THRESH_BINARY)\n",
    "plt.imshow(img,cmap='gray')"
   ]
  },
  {
   "cell_type": "code",
   "execution_count": 5,
   "id": "340011c9",
   "metadata": {},
   "outputs": [
    {
     "data": {
      "text/plain": [
       "[array([[[197, 190]],\n",
       " \n",
       "        [[197, 191]],\n",
       " \n",
       "        [[197, 192]],\n",
       " \n",
       "        ...,\n",
       " \n",
       "        [[200, 190]],\n",
       " \n",
       "        [[199, 190]],\n",
       " \n",
       "        [[198, 190]]], dtype=int32),\n",
       " array([[[226, 220]],\n",
       " \n",
       "        [[227, 219]],\n",
       " \n",
       "        [[228, 219]],\n",
       " \n",
       "        ...,\n",
       " \n",
       "        [[226, 223]],\n",
       " \n",
       "        [[226, 222]],\n",
       " \n",
       "        [[226, 221]]], dtype=int32),\n",
       " array([[[125, 118]],\n",
       " \n",
       "        [[125, 119]],\n",
       " \n",
       "        [[125, 120]],\n",
       " \n",
       "        ...,\n",
       " \n",
       "        [[128, 118]],\n",
       " \n",
       "        [[127, 118]],\n",
       " \n",
       "        [[126, 118]]], dtype=int32),\n",
       " array([[[154, 148]],\n",
       " \n",
       "        [[155, 147]],\n",
       " \n",
       "        [[156, 147]],\n",
       " \n",
       "        ...,\n",
       " \n",
       "        [[154, 151]],\n",
       " \n",
       "        [[154, 150]],\n",
       " \n",
       "        [[154, 149]]], dtype=int32),\n",
       " array([[[67, 60]],\n",
       " \n",
       "        [[67, 61]],\n",
       " \n",
       "        [[67, 62]],\n",
       " \n",
       "        ...,\n",
       " \n",
       "        [[70, 60]],\n",
       " \n",
       "        [[69, 60]],\n",
       " \n",
       "        [[68, 60]]], dtype=int32),\n",
       " array([[[96, 90]],\n",
       " \n",
       "        [[97, 89]],\n",
       " \n",
       "        [[98, 89]],\n",
       " \n",
       "        ...,\n",
       " \n",
       "        [[96, 93]],\n",
       " \n",
       "        [[96, 92]],\n",
       " \n",
       "        [[96, 91]]], dtype=int32)]"
      ]
     },
     "execution_count": 5,
     "metadata": {},
     "output_type": "execute_result"
    }
   ],
   "source": [
    "#findContours로 외각선 검출\n",
    "contours , h = cv2.findContours(img,cv2.RETR_CCOMP,cv2.CHAIN_APPROX_NONE)\n",
    "contours"
   ]
  },
  {
   "cell_type": "code",
   "execution_count": 8,
   "id": "ed9341ed",
   "metadata": {},
   "outputs": [
    {
     "data": {
      "image/png": "[encoded data removed]",
      "text/plain": [
       "<Figure size 1440x1440 with 2 Axes>"
      ]
     },
     "metadata": {
      "needs_background": "light"
     },
     "output_type": "display_data"
    }
   ],
   "source": [
    "output_img = origin_img.copy()\n",
    "cv2.drawContours(output_img,contours,-1,(0,255,0),4)\n",
    "two_img_show(origin_img,'origin',output_img,'find_contours')"
   ]
  }
 ],
 "metadata": {
  "kernelspec": {
   "display_name": "Python 3",
   "language": "python",
   "name": "python3"
  },
  "language_info": {
   "codemirror_mode": {
    "name": "ipython",
    "version": 3
   },
   "file_extension": ".py",
   "mimetype": "text/x-python",
   "name": "python",
   "nbconvert_exporter": "python",
   "pygments_lexer": "ipython3",
   "version": "3.9.5"
  }
 },
 "nbformat": 4,
 "nbformat_minor": 5
}
