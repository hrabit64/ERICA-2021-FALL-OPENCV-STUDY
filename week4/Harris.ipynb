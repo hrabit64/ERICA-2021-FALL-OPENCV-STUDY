{
 "cells": [
  {
   "cell_type": "markdown",
   "metadata": {
    "collapsed": true,
    "pycharm": {
     "name": "#%% md\n"
    }
   },
   "source": [
    "## 해리스 코너 검출\n",
    "\n",
    "- 코너란 영상의 지역적 특징중 하나로 에지의 방향이 급격하게 변하는 부분입니다.\n",
    "- 1988년 해리스(C. Harris)가 개발한 코너 검출 방법이 코너 검출을 위한 아이디어를 수학적으로 잘 정의했다는 점에서 의의를 가집니다.\n",
    "\n",
    "### 코너 검출 과정\n",
    "- 상하좌우 각 방위의 대각선까지 총 8방향에 대해 타겟 픽셀에서 1픽셀씩 이동시켰을때의 영상 변화량 E를 계산한다.\n",
    "- E의 최소값을 해당 영상변화량 값으로 설정, 설정된 min(E) 값이 지역적으로 극대가 되는 지점을 코너점으로 찾는 방법을 사용합니다.\n",
    "- 모든 픽셀이 평탄하면 변화량이 없고, 직선이라면 픽셀 변화가 한 방향으로 존재하고, 코너라면 모든 방향이 변화한다는 아이디어에서 비롯됩니다."
   ]
  },
  {
   "cell_type": "code",
   "execution_count": 23,
   "outputs": [],
   "source": [
    "import numpy as np\n",
    "import cv2 as cv"
   ],
   "metadata": {
    "collapsed": false,
    "pycharm": {
     "name": "#%%\n"
    }
   }
  },
  {
   "cell_type": "code",
   "execution_count": 24,
   "outputs": [],
   "source": [
    "img = cv.imread('./img/chessboard.jpg')\n",
    "\n",
    "gray = cv.cvtColor(img,cv.COLOR_BGR2GRAY)\n",
    "gray = np.float32(gray)\n",
    "\n",
    "dst = cv.cornerHarris(gray, 5, 3, 0.04)\n",
    "\n",
    "# 코너 표시\n",
    "dst = cv.dilate(dst,None)\n",
    "img[dst>0.01*dst.max()]=[0,0,255]\n",
    "\n",
    "cv.imshow('dst',img)\n",
    "cv.waitKey(0)\n",
    "cv.destroyAllWindows()\n",
    "\n"
   ],
   "metadata": {
    "collapsed": false,
    "pycharm": {
     "name": "#%%\n"
    }
   }
  }
 ],
 "metadata": {
  "kernelspec": {
   "name": "pycharm-39cd402",
   "language": "python",
   "display_name": "PyCharm (deep_learning)"
  },
  "language_info": {
   "codemirror_mode": {
    "name": "ipython",
    "version": 2
   },
   "file_extension": ".py",
   "mimetype": "text/x-python",
   "name": "python",
   "nbconvert_exporter": "python",
   "pygments_lexer": "ipython2",
   "version": "2.7.6"
  }
 },
 "nbformat": 4,
 "nbformat_minor": 0
}