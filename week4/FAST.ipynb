{
 "cells": [
  {
   "cell_type": "markdown",
   "metadata": {
    "collapsed": true,
    "pycharm": {
     "name": "#%% md\n"
    }
   },
   "source": [
    "## FAST 코너 검출\n",
    "\n",
    "![img](https://i.ibb.co/LgbnJYw/image.png)\n",
    "\n",
    "- 위 그림과 같이 타겟 픽셀 주변 픽셀을 비교합니다.\n",
    "- 타겟 픽셀 P를 중심으로 상하, 좌우, 대각선, 그 중간 위치들 총 16방향의 픽셀을 비교합니다.\n",
    "- 값의 차이가 9개 이상 연속으로 존재할 시 그것을 코너로 간주합니다.\n",
    "- 해리스 코너에 비해 연산량이 적고 속도가 빠른 장점이 있습니다."
   ]
  },
  {
   "cell_type": "code",
   "execution_count": 1,
   "outputs": [],
   "source": [
    "import numpy as np\n",
    "import cv2"
   ],
   "metadata": {
    "collapsed": false,
    "pycharm": {
     "name": "#%%\n"
    }
   }
  },
  {
   "cell_type": "code",
   "execution_count": 2,
   "outputs": [],
   "source": [
    "img = cv2.imread('./img/chessboard.jpg')\n",
    "img = cv2.cvtColor(img, cv2.COLOR_BGR2GRAY)\n",
    "img2, img3 = None, None\n",
    "\n",
    "\n",
    "fast = cv2.FastFeatureDetector_create(30)\n",
    "kp = fast.detect(img)\n",
    "img2 = cv2.drawKeypoints(img, kp, img2, (255,0,0))\n",
    "cv2.imshow('img2',img2)\n",
    "cv2.waitKey(0)\n",
    "cv2.destroyAllWindows()"
   ],
   "metadata": {
    "collapsed": false,
    "pycharm": {
     "name": "#%%\n"
    }
   }
  }
 ],
 "metadata": {
  "kernelspec": {
   "display_name": "Python 3",
   "language": "python",
   "name": "python3"
  },
  "language_info": {
   "codemirror_mode": {
    "name": "ipython",
    "version": 2
   },
   "file_extension": ".py",
   "mimetype": "text/x-python",
   "name": "python",
   "nbconvert_exporter": "python",
   "pygments_lexer": "ipython2",
   "version": "2.7.6"
  }
 },
 "nbformat": 4,
 "nbformat_minor": 0
}