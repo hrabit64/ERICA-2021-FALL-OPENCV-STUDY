{
 "cells": [
  {
   "cell_type": "markdown",
   "metadata": {},
   "source": [
    "# CNN 특징 추출을 활용한 자동 이미지 분류기 만들기"
   ]
  },
  {
   "cell_type": "markdown",
   "metadata": {},
   "source": [
    "## 콘텐츠 기반 이미지 검색(CBIR)\n",
    "### https://github.com/matsui528/sis\n",
    "\n",
    "![img](https://ichi.pro/assets/images/max/724/0*sps03IQu3sDJeWyD)\n",
    "\n",
    "출처 : https://ichi.pro/ko/python-eul-sayonghayeo-imiji-geomsaeg-enjin-guchug-190319101887515"
   ]
  },
  {
   "cell_type": "markdown",
   "metadata": {},
   "source": [
    "![img](./img/junser_hwang/1.png)"
   ]
  }
 ],
 "metadata": {
  "interpreter": {
   "hash": "7551eedc90f0856a6d865e52f20d60c7be6c51ab726903b59fa705e56aadb654"
  },
  "kernelspec": {
   "display_name": "Python 3.7.11 64-bit ('opencv_p': conda)",
   "language": "python",
   "name": "python3"
  },
  "language_info": {
   "name": "python",
   "version": "3.7.11"
  },
  "orig_nbformat": 4
 },
 "nbformat": 4,
 "nbformat_minor": 2
}
