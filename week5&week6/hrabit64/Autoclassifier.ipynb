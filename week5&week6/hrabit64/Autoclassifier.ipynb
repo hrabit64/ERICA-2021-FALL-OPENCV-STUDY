{
 "cells": [
  {
   "cell_type": "markdown",
   "metadata": {},
   "source": [
    "# CNN 특징 추출을 활용한 자동 이미지 분류기 만들기"
   ]
  },
  {
   "cell_type": "markdown",
   "metadata": {},
   "source": [
    "# 1. 참고한 프로젝트\n",
    "## 콘텐츠 기반 이미지 검색(CBIR)\n",
    "### https://github.com/matsui528/sis\n",
    "\n",
    "![img](https://ichi.pro/assets/images/max/724/0*sps03IQu3sDJeWyD)\n",
    "\n",
    "출처 : https://ichi.pro/ko/python-eul-sayonghayeo-imiji-geomsaeg-enjin-guchug-190319101887515"
   ]
  },
  {
   "cell_type": "markdown",
   "metadata": {},
   "source": [
    "![img](https://github.com/hrabit64/ERICA-2021-FALL-OPENCV-STUDY/blob/master/week5&week6/hrabit64/img/example.PNG?raw=true)\n",
    "\n",
    "유명한 무료 이미지 사이트 pixabay에서 이미지를 검색한 모습"
   ]
  },
  {
   "cell_type": "markdown",
   "metadata": {},
   "source": [
    "![img](https://github.com/hrabit64/ERICA-2021-FALL-OPENCV-STUDY/blob/master/week5&week6/hrabit64/img/1.png?raw=true)\n",
    "\n",
    "1. keras의 pre-trained model VGG16을 사용하여 이미지들의 특징을 추출하여 데이터 베이스에 저장함.\n",
    "2. 사용자가 찾고자 하는 이미지를 업로드하면 마찬가지로 동일한 방식으로 특징점들을 추출함.\n",
    "3. 쿼리 이미지의 특징과, 데이터 베이스의 이미지의 특징을 사용하여 유클리드 거리를 구한 후, 거리가 가까운 순으로 이미지를 보여줌"
   ]
  },
  {
   "cell_type": "markdown",
   "metadata": {},
   "source": [
    "# 2. 계획\n",
    "\n",
    "![img](https://github.com/hrabit64/ERICA-2021-FALL-OPENCV-STUDY/blob/master/week5&week6/hrabit64/img/2.png?raw=true)\n",
    "\n",
    "1. 사용자로 부터 분류할 이미지를 입력 받고, 분류할 라벨명들, 그리고 각 라벨의 대표 이미지를 인자로 받음.\n",
    "2. 특징 추출기로 대표 이미지들과 분류할 이미지들의 특징을 추출함.\n",
    "3. 각 이미지와 대표 이미지의 유클리드 거리를 구한 후, 최소 거리인 라벨을 최종 라벨로 선정함.\n",
    "4. 각 이미지를 최종 라벨에 따라 사용자가 입력한 output 폴더로 이동시킴.\n",
    "\n",
    "따라서 사용자가 편리하게 이미지를 자동으로 정리할 수 있게 도와주는 Autoclassifier을 제작하고자 함"
   ]
  },
  {
   "cell_type": "markdown",
   "metadata": {},
   "source": [
    "# 3. 결과"
   ]
  },
  {
   "cell_type": "markdown",
   "metadata": {},
   "source": [
    "## MNIST를 사용한 정밀한 이미지 분류 - 실패\n",
    "\n",
    "![img](https://github.com/hrabit64/ERICA-2021-FALL-OPENCV-STUDY/blob/master/week5&week6/hrabit64/img/0class.PNG?raw=true)\n",
    "숫자 0을 정리한 모습\n",
    "\n",
    "![img](https://github.com/hrabit64/ERICA-2021-FALL-OPENCV-STUDY/blob/master/week5&week6/hrabit64/img/1class.PNG?raw=true)\n",
    "숫자 1을 정리한 모습\n",
    "\n",
    "\n",
    "숫자 0은 정리가 잘 되는 모습이 보였지만, 숫자 1은 제대로 정리되지 않았음.\n",
    "따라서 대략적인 구분은 가능하지만, 정밀한 구분은 힘들었음."
   ]
  },
  {
   "cell_type": "markdown",
   "metadata": {},
   "source": [
    "## 직접 준비한 바다 산 사진 분류 - 성공\n",
    "![img](https://github.com/hrabit64/ERICA-2021-FALL-OPENCV-STUDY/blob/master/week5&week6/hrabit64/img/seamountain.PNG?raw=true)\n",
    "\n",
    "분류할 이미지들\n",
    "\n",
    "![img](https://github.com/hrabit64/ERICA-2021-FALL-OPENCV-STUDY/blob/master/week5&week6/hrabit64/img/sea.PNG?raw=true)\n",
    "\n",
    "바다로 분류된 이미지들\n",
    "\n",
    "![img](https://github.com/hrabit64/ERICA-2021-FALL-OPENCV-STUDY/blob/master/week5&week6/hrabit64/img/mountain.PNG?raw=true)\n",
    "\n",
    "산으로 분류된 이미지들\n",
    "\n",
    "\n",
    "대략적으로 제작한 분류기가 아주 정밀한 분류에는 사용하기 힘들지만, 간단한 분류에서는 꽤 좋은 모습을 보여주었음"
   ]
  },
  {
   "cell_type": "markdown",
   "metadata": {},
   "source": [
    "업로드한 레포 링크 : https://github.com/hrabit64/Autoclassifier"
   ]
  }
 ],
 "metadata": {
  "interpreter": {
   "hash": "7551eedc90f0856a6d865e52f20d60c7be6c51ab726903b59fa705e56aadb654"
  },
  "kernelspec": {
   "display_name": "Python 3.7.11 64-bit ('opencv_p': conda)",
   "language": "python",
   "name": "python3"
  },
  "language_info": {
   "name": "python",
   "version": "3.7.11"
  },
  "orig_nbformat": 4
 },
 "nbformat": 4,
 "nbformat_minor": 2
}
