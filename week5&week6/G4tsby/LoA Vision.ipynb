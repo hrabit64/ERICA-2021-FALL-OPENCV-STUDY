{
 "cells": [
  {
   "cell_type": "markdown",
   "metadata": {
    "collapsed": true,
    "pycharm": {
     "name": "#%% md\n"
    }
   },
   "source": [
    "# LoA Vision\n",
    "https://github.com/G4tsby/LoA-Vision\n",
    "\n",
    "- 로스트아크라는 게임의 서트파티 툴에 추가될 기능 중에 하나입니다.\n",
    "- 보스의 체력과 파티의 제목을 읽는 기능을 가지고 있습니다.\n",
    "\n",
    "## 사용된 기법\n",
    "- 탬플릿 매칭\n",
    "- OCR"
   ]
  }
 ],
 "metadata": {
  "kernelspec": {
   "display_name": "Python 3",
   "language": "python",
   "name": "python3"
  },
  "language_info": {
   "codemirror_mode": {
    "name": "ipython",
    "version": 2
   },
   "file_extension": ".py",
   "mimetype": "text/x-python",
   "name": "python",
   "nbconvert_exporter": "python",
   "pygments_lexer": "ipython2",
   "version": "2.7.6"
  }
 },
 "nbformat": 4,
 "nbformat_minor": 0
}